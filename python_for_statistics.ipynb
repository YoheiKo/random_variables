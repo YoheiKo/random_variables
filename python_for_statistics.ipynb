{
  "cells": [
    {
      "metadata": {
        "collapsed": true
      },
      "cell_type": "markdown",
      "source": "<div style=\"font-size:16pt\" font-weight=\"bold\"><strong>Python for  Statistics</strong></div>\n<br>\nThis note is based on  \"Mastering python for data science\", Samir Madhavan, PACKT, 2015.(MP4DS) and wikipedia. "
    },
    {
      "metadata": {},
      "cell_type": "markdown",
      "source": "<div style=\"font-size:14pt\" font-weight=\"bold\">1. Various forms of distributions</div>"
    },
    {
      "metadata": {},
      "cell_type": "markdown",
      "source": "<div style=\"font-size:14pt\" font-weight=\"bold\">1.1 Binomial distribution and normal distribution</div>\nA Binomial distribution has the following probability density function:\n\\begin{equation}\nP(x) = \\frac{n!}{x!(n-x)!}p^x q^{n-x}\n\\end{equation}\n<br>\nwhere x is the number of successes when flipping a fair coin, n is the number of sample sizes, p is the probability of success and q is (1-p).<br><br>\nIf the sample sizes are large enough, the shape of Binomial distribution will be quite similar to Normal distributon. The difference is that a Binomial distribution is a discrete distribution (It has a probability mass function: pmf), while Normal distribution is a continuous distrbution (It has a probability distribution function: pdf).<br><br>\nWe can use SciPy packages for statstical computations. See here for details: https://www.scipy.org/"
    },
    {
      "metadata": {
        "trusted": true
      },
      "cell_type": "code",
      "source": "# import relavent libraries\nimport scipy.stats as stats\nfrom scipy.stats import binom\nfrom scipy.stats import norm\nimport numpy as np\nimport matplotlib.pyplot as plt\n%matplotlib inline",
      "execution_count": 1,
      "outputs": []
    },
    {
      "metadata": {
        "trusted": true
      },
      "cell_type": "code",
      "source": "fig, ax = plt.subplots(1,1)\nx = [0, 1, 2, 3, 4, 5, 6] # The number of getting head whn flipping a fair coin six times. \nn = 6\np = 0.5 # prob. of head\nrv = binom(n,p) # generating binomial distribution\n\nax.vlines(x, 0, rv.pmf(x), colors='darkblue', linestyles='-', lw=1,label='Probablity') # ax.vlines plot vertical lines. rv.pmf retunrs the pmf of x\nax.legend(loc='best', frameon=False) # frameon=False removes the frame from the legend\nplt.show() ",
      "execution_count": 103,
      "outputs": [
        {
          "output_type": "display_data",
          "data": {
            "image/png": "[encoded data removed]",
            "text/plain": "<Figure size 432x288 with 1 Axes>"
          },
          "metadata": {
            "needs_background": "light"
          }
        }
      ]
    },
    {
      "metadata": {
        "trusted": true
      },
      "cell_type": "code",
      "source": "rv.pmf(3) # The probability of having 3 heads per 6 tosses",
      "execution_count": 15,
      "outputs": [
        {
          "output_type": "execute_result",
          "execution_count": 15,
          "data": {
            "text/plain": "0.3125000000000002"
          },
          "metadata": {}
        }
      ]
    },
    {
      "metadata": {
        "trusted": true
      },
      "cell_type": "code",
      "source": "for i, prob in enumerate([rv.pmf(i) for i in range(0,7,1)]):\n    print(i ,\": \", round(prob*100,2), \"%\") ",
      "execution_count": 33,
      "outputs": [
        {
          "output_type": "stream",
          "text": "0 :  1.56 %\n1 :  9.38 %\n2 :  23.44 %\n3 :  31.25 %\n4 :  23.44 %\n5 :  9.38 %\n6 :  1.56 %\n",
          "name": "stdout"
        }
      ]
    },
    {
      "metadata": {
        "trusted": true
      },
      "cell_type": "code",
      "source": "np.sum([rv.pmf(i) for i in range(0,7,1)]) # The sum is one",
      "execution_count": 36,
      "outputs": [
        {
          "output_type": "execute_result",
          "execution_count": 36,
          "data": {
            "text/plain": "1.0000000000000002"
          },
          "metadata": {}
        }
      ]
    },
    {
      "metadata": {
        "trusted": true
      },
      "cell_type": "code",
      "source": "# Increase the number of attemps\nfig, ax = plt.subplots(1,1)\nx = range(101) # range function generates sequene of integers from 0 to 100\nn = 100 # flip a fair coin 100 times\np = 0.5\nrv = binom(n,p)\nax.vlines(x, 0, rv.pmf(x),  colors='darkblue', linestyles='-', lw=1, label='Probablity')",
      "execution_count": 102,
      "outputs": [
        {
          "output_type": "execute_result",
          "execution_count": 102,
          "data": {
            "text/plain": "<matplotlib.collections.LineCollection at 0x7f00a7989898>"
          },
          "metadata": {}
        },
        {
          "output_type": "display_data",
          "data": {
            "image/png": "[encoded data removed]",
            "text/plain": "<Figure size 432x288 with 1 Axes>"
          },
          "metadata": {
            "needs_background": "light"
          }
        }
      ]
    },
    {
      "metadata": {
        "trusted": true
      },
      "cell_type": "code",
      "source": "# Use list to extract values from a range object\nlist(range(11))",
      "execution_count": 41,
      "outputs": [
        {
          "output_type": "execute_result",
          "execution_count": 41,
          "data": {
            "text/plain": "[0, 1, 2, 3, 4, 5, 6, 7, 8, 9, 10]"
          },
          "metadata": {}
        }
      ]
    },
    {
      "metadata": {
        "trusted": true
      },
      "cell_type": "code",
      "source": "#for i, prob in enumerate([rv.pmf(i) for i in range(0,101,1)]):\n#    print(i ,\": \", round(prob*100,2), \"%\") ",
      "execution_count": 45,
      "outputs": []
    },
    {
      "metadata": {
        "trusted": true
      },
      "cell_type": "code",
      "source": "# Change the probability of success to 0.3\nfig, ax = plt.subplots(1,1)\nx = range(101) # range function generates sequene of integers from 0 to 100\nn = 100 # flip a fair coin 100 times\np = 0.3\nrv = binom(n,p)\nax.vlines(x, 0, rv.pmf(x),  colors='darkblue', linestyles='-', lw=1, label='Probablity')",
      "execution_count": 101,
      "outputs": [
        {
          "output_type": "execute_result",
          "execution_count": 101,
          "data": {
            "text/plain": "<matplotlib.collections.LineCollection at 0x7f00a7c65518>"
          },
          "metadata": {}
        },
        {
          "output_type": "display_data",
          "data": {
            "image/png": "[encoded data removed]",
            "text/plain": "<Figure size 432x288 with 1 Axes>"
          },
          "metadata": {
            "needs_background": "light"
          }
        }
      ]
    },
    {
      "metadata": {
        "trusted": true
      },
      "cell_type": "code",
      "source": "# Change the probability of success to 0.6\nfig, ax = plt.subplots(1,1)\nx = range(1001) # range function generates sequene of integers from 0 to 1000\nn = 1000 # flip a fair coin 1000 times\np = 0.6\nrv = binom(n,p)\nax.vlines(x, 0, rv.pmf(x),  colors='darkblue', linestyles='-', lw=1, label='Probablity')",
      "execution_count": 100,
      "outputs": [
        {
          "output_type": "execute_result",
          "execution_count": 100,
          "data": {
            "text/plain": "<matplotlib.collections.LineCollection at 0x7f00a7dd4748>"
          },
          "metadata": {}
        },
        {
          "output_type": "display_data",
          "data": {
            "image/png": "[encoded data removed]",
            "text/plain": "<Figure size 432x288 with 1 Axes>"
          },
          "metadata": {
            "needs_background": "light"
          }
        }
      ]
    },
    {
      "metadata": {
        "trusted": true
      },
      "cell_type": "code",
      "source": "# Flip 1,000 times\nfig, ax = plt.subplots(1,1)\nx = range(1001) # range function generates sequene of integers from 0 to 100\nn = 1000 # flip a fair coin 100 times\np = 0.5\nrv = binom(n,p)\nax.vlines(x, 0, rv.pmf(x),  colors='darkblue', linestyles='-', lw=1, label='Probablity')\nax.plot(x, stats.norm(500,rv.std()).pdf(x)) # The light blue line is a normal distribtion which has same mean and variance",
      "execution_count": 106,
      "outputs": [
        {
          "output_type": "execute_result",
          "execution_count": 106,
          "data": {
            "text/plain": "[<matplotlib.lines.Line2D at 0x7f00a78caa20>]"
          },
          "metadata": {}
        },
        {
          "output_type": "display_data",
          "data": {
            "image/png": "[encoded data removed]",
            "text/plain": "<Figure size 432x288 with 1 Axes>"
          },
          "metadata": {
            "needs_background": "light"
          }
        }
      ]
    },
    {
      "metadata": {
        "trusted": true
      },
      "cell_type": "markdown",
      "source": "<hr>"
    },
    {
      "metadata": {
        "trusted": true
      },
      "cell_type": "markdown",
      "source": "<div style=\"font-size:14pt\" font-weight=\"bold\">1.2 Poisson distribution</div>\n<br><br>\nA poisson distribution is a discrete probability distribution that expresses the probability of a given number of events occurring in a fixed interval of time or space if these events occur with a known constant rate and independently of the time since the last event. <br><br>\n\nThe pmf of poisson distribution is as follows:\n\\begin{equation}\n    f(x;\\lambda) = P(\\: \\text{k events in the interval} \\:) = \\frac{\\lambda^k e^{-\\lambda}}{k!}\n\\end{equation}    \n<br>\nwhere k = 0,1,2... is the number of events in the interval, and $\\lambda$ is the average number of events per interval. \n<br>\nreference:  <a href =\"https://en.wikipedia.org/wiki/Poisson_distribution\">https://en.wikipedia.org/wiki/Poisson_distribution</a>"
    },
    {
      "metadata": {
        "trusted": true
      },
      "cell_type": "code",
      "source": "# The number of phone calls in an hour is 10. What is the probability of having 15 calls in the next hour.\n\nfrom scipy.stats import poisson\nrv = poisson(10) #lambda (average number per interval)\nrv.pmf(15) # .pmf returns the probability",
      "execution_count": 55,
      "outputs": [
        {
          "output_type": "execute_result",
          "execution_count": 55,
          "data": {
            "text/plain": "0.034718069630684245"
          },
          "metadata": {}
        }
      ]
    },
    {
      "metadata": {
        "trusted": true
      },
      "cell_type": "markdown",
      "source": "<hr>"
    },
    {
      "metadata": {},
      "cell_type": "markdown",
      "source": "<div style=\"font-size:14pt\" font-weight=\"bold\">1.3 Bernoulli distribution</div>"
    },
    {
      "metadata": {},
      "cell_type": "markdown",
      "source": "A Bernoulli distribution is the discrete probability distribution of a random variable which takes the value 1 with probability $p$ and the value 0 with probability $q=1-p$. The probability mass function is as follows:<br>\n\\begin{equation}\nP(n) = \n\\begin{cases} \n 1 - p & \\textrm{for n = 0}\\\\\n p & \\textrm{for n = 1}\n\\end{cases}\n\\end{equation}\n<br>\nIt can be also written like:\n\\begin{equation}\nP(n) = p^n(1-p)^{1-n}\n\\end{equation}\n\nreference : https://en.wikipedia.org/wiki/Bernoulli_distribution"
    },
    {
      "metadata": {
        "trusted": true
      },
      "cell_type": "code",
      "source": "from scipy import stats\noutcome = stats.bernoulli.rvs(0.6, size=100)\noutcome",
      "execution_count": 10,
      "outputs": [
        {
          "output_type": "execute_result",
          "execution_count": 10,
          "data": {
            "text/plain": "array([1, 0, 0, 0, 1, 0, 0, 0, 0, 1, 1, 1, 0, 0, 0, 1, 0, 0, 1, 1, 1, 0,\n       0, 1, 0, 1, 1, 0, 1, 1, 1, 0, 1, 1, 1, 1, 0, 1, 1, 0, 1, 1, 0, 0,\n       0, 0, 0, 1, 0, 0, 1, 1, 1, 1, 0, 0, 0, 0, 1, 1, 0, 1, 0, 1, 1, 1,\n       1, 0, 0, 1, 1, 0, 0, 1, 0, 0, 1, 1, 1, 1, 0, 1, 1, 1, 1, 1, 1, 1,\n       0, 1, 0, 1, 1, 1, 1, 0, 1, 1, 1, 1])"
          },
          "metadata": {}
        }
      ]
    },
    {
      "metadata": {
        "trusted": true
      },
      "cell_type": "code",
      "source": "import numpy as np\nnp.sum(outcome) # Because the outcomes are random, the ratio of one in the sample size does not match exatcly to the probability",
      "execution_count": 11,
      "outputs": [
        {
          "output_type": "execute_result",
          "execution_count": 11,
          "data": {
            "text/plain": "58"
          },
          "metadata": {}
        }
      ]
    },
    {
      "metadata": {},
      "cell_type": "markdown",
      "source": "<hr>"
    },
    {
      "metadata": {},
      "cell_type": "markdown",
      "source": "<div style=\"font-size:14pt\" font-weight=\"bold\">1.4 Z score</div>"
    },
    {
      "metadata": {},
      "cell_type": "markdown",
      "source": "\\begin{equation}\nZ = \\frac{X - \\mu}{\\sigma}\n\\end{equation}\n<br>\nwhere X is the value in th original distribution, $\\mu$ is the mean of them, and $\\sigma$ is the standard deviation."
    },
    {
      "metadata": {
        "trusted": true
      },
      "cell_type": "markdown",
      "source": "Suppose we have a math test to 100 students. We assume that the score distribution is normal. The mean and standard deviation of the score is assumed to be 65 and 10 respectivey.\nWe can simulate the distribution by the following code: "
    },
    {
      "metadata": {
        "trusted": true
      },
      "cell_type": "code",
      "source": "import numpy as np\nimport matplotlib.pyplot as plt\nimport random",
      "execution_count": 42,
      "outputs": []
    },
    {
      "metadata": {
        "trusted": true
      },
      "cell_type": "code",
      "source": "random.seed(0)\nscore = np.random.normal(65,10,100).round() # (mean, std, and sample size)\nscore",
      "execution_count": 43,
      "outputs": [
        {
          "output_type": "execute_result",
          "execution_count": 43,
          "data": {
            "text/plain": "array([79., 56., 75., 53., 77., 57., 73., 76., 71., 77., 75., 62., 63.,\n       82., 65., 65., 59., 85., 64., 59., 59., 75., 65., 52., 73., 63.,\n       72., 74., 58., 57., 93., 68., 79., 65., 62., 61., 69., 72., 62.,\n       51., 56., 86., 69., 63., 70., 50., 63., 69., 74., 50., 72., 72.,\n       50., 59., 39., 51., 46., 64., 73., 76., 71., 77., 49., 71., 73.,\n       72., 87., 55., 68., 64., 54., 68., 58., 50., 65., 55., 63., 70.,\n       79., 61., 60., 57., 66., 68., 64., 65., 64., 71., 76., 85., 58.,\n       62., 68., 70., 66., 67., 56., 86., 69., 71.])"
          },
          "metadata": {}
        }
      ]
    },
    {
      "metadata": {
        "trusted": true
      },
      "cell_type": "code",
      "source": "score.mean() # sample mean",
      "execution_count": 44,
      "outputs": [
        {
          "output_type": "execute_result",
          "execution_count": 44,
          "data": {
            "text/plain": "66.14"
          },
          "metadata": {}
        }
      ]
    },
    {
      "metadata": {
        "trusted": true
      },
      "cell_type": "code",
      "source": "score.std() # sample standard deviation",
      "execution_count": 45,
      "outputs": [
        {
          "output_type": "execute_result",
          "execution_count": 45,
          "data": {
            "text/plain": "9.94386242865417"
          },
          "metadata": {}
        }
      ]
    },
    {
      "metadata": {
        "trusted": true
      },
      "cell_type": "code",
      "source": "plt.hist(score, bins=25, normed = True) # \"normed = True\" returns a density curve. The integral of all possible x = 1",
      "execution_count": 47,
      "outputs": [
        {
          "output_type": "execute_result",
          "execution_count": 47,
          "data": {
            "text/plain": "(array([0.00462963, 0.        , 0.        , 0.00462963, 0.00462963,\n        0.02777778, 0.01388889, 0.02314815, 0.02777778, 0.02314815,\n        0.02777778, 0.0462963 , 0.04166667, 0.04166667, 0.03703704,\n        0.04166667, 0.02314815, 0.02777778, 0.01388889, 0.00462963,\n        0.        , 0.01851852, 0.00462963, 0.        , 0.00462963]),\n array([39.  , 41.16, 43.32, 45.48, 47.64, 49.8 , 51.96, 54.12, 56.28,\n        58.44, 60.6 , 62.76, 64.92, 67.08, 69.24, 71.4 , 73.56, 75.72,\n        77.88, 80.04, 82.2 , 84.36, 86.52, 88.68, 90.84, 93.  ]),\n <a list of 25 Patch objects>)"
          },
          "metadata": {}
        },
        {
          "output_type": "display_data",
          "data": {
            "image/png": "[encoded data removed]",
            "text/plain": "<Figure size 432x288 with 1 Axes>"
          },
          "metadata": {
            "needs_background": "light"
          }
        }
      ]
    },
    {
      "metadata": {
        "trusted": true
      },
      "cell_type": "code",
      "source": "# standardize the scores\nimport scipy.stats as stats",
      "execution_count": 48,
      "outputs": []
    },
    {
      "metadata": {
        "trusted": true
      },
      "cell_type": "code",
      "source": "# stats.zscore(score)",
      "execution_count": 26,
      "outputs": []
    },
    {
      "metadata": {
        "trusted": true
      },
      "cell_type": "code",
      "source": "# Zscore function is standardized by sample mean and std\nprint(\"Standardized by sample mean and std?: \", 1.29326005*score.std() + score.mean())\nprint(\"Standardized by population mean and std?: \", 1.29326005*10 + 65)",
      "execution_count": 52,
      "outputs": [
        {
          "output_type": "stream",
          "text": "Standardized by sample mean and std?:  79.00000002167441\nStandardized by population mean and std?:  77.9326005\n",
          "name": "stdout"
        }
      ]
    },
    {
      "metadata": {
        "trusted": true
      },
      "cell_type": "code",
      "source": "# [(i-65.0)/10.0 for i in score]",
      "execution_count": 2,
      "outputs": []
    },
    {
      "metadata": {
        "trusted": true
      },
      "cell_type": "code",
      "source": "prob = 1 - stats.norm.cdf(1.29326005) # The Z score of 79 is 1.29326005. We pass it the cdf function \nprob # This is the probability that makes above 79.",
      "execution_count": 54,
      "outputs": [
        {
          "output_type": "execute_result",
          "execution_count": 54,
          "data": {
            "text/plain": "0.09796056642274564"
          },
          "metadata": {}
        }
      ]
    },
    {
      "metadata": {
        "trusted": true
      },
      "cell_type": "code",
      "source": "# Determnining the top 10% Z score\nstats.norm.ppf(0.9)",
      "execution_count": 55,
      "outputs": [
        {
          "output_type": "execute_result",
          "execution_count": 55,
          "data": {
            "text/plain": "1.2815515655446004"
          },
          "metadata": {}
        }
      ]
    },
    {
      "metadata": {
        "trusted": true
      },
      "cell_type": "code",
      "source": "# Convert the Z score to the original distribution\n1.2815515655446004*score.std() + score.mean() ",
      "execution_count": 56,
      "outputs": [
        {
          "output_type": "execute_result",
          "execution_count": 56,
          "data": {
            "text/plain": "78.88357246300188"
          },
          "metadata": {}
        }
      ]
    },
    {
      "metadata": {
        "trusted": true
      },
      "cell_type": "markdown",
      "source": "<hr>"
    },
    {
      "metadata": {},
      "cell_type": "markdown",
      "source": "<div style=\"font-size:14pt\" font-weight=\"bold\">2.1 Normal (Z) distribution vs t-distribution</div>\n<br> \nA t-distribution is similar to a normal (Z) distribtion. However, it has fatter tail and flatter around the center than the normal distribution."
    },
    {
      "metadata": {
        "trusted": true
      },
      "cell_type": "code",
      "source": "# generate x values\nx = np.linspace(-5,5,100)\n\n# create t distibution object with digree of freedom = 3\ndf_t = stats.t(3)\n\n# Draw the pdf of t-distribuion and normal distribution \nplt.plot(x, df_t.pdf(x), label = \"t-distribution, df = 3\")\nplt.plot(x, norm.pdf(x), label = \"Normal(Z) distribution\")\nplt.legend(loc='best', frameon=False)",
      "execution_count": 94,
      "outputs": [
        {
          "output_type": "execute_result",
          "execution_count": 94,
          "data": {
            "text/plain": "<matplotlib.legend.Legend at 0x7f00a8533080>"
          },
          "metadata": {}
        },
        {
          "output_type": "display_data",
          "data": {
            "image/png": "[encoded data removed]",
            "text/plain": "<Figure size 432x288 with 1 Axes>"
          },
          "metadata": {
            "needs_background": "light"
          }
        }
      ]
    },
    {
      "metadata": {},
      "cell_type": "markdown",
      "source": "The t-test under t-distribution is used to compare the sample mean against the population mean. We should not use the normal distribution in this case unless the sample sizez is large enough. "
    },
    {
      "metadata": {},
      "cell_type": "markdown",
      "source": "<hr>"
    },
    {
      "metadata": {},
      "cell_type": "markdown",
      "source": "<div style=\"font-size:14pt\" font-weight=\"bold\">2.2 t-statistics</div>\n<br>\nIn statistics, the t-statistic is the ratio of the departure of the estimated value of a parameter from its hypothesized value to its standard error. It is used in hypothesis testing via Student's t-test. For example, it is used in estimating the population mean from a sampling distribution of sample means if the population standard deviation is unknown.\n<br><br>\nSuppose we have a sample distibution whose population distribution is normal: $N(\\mu, \\sigma^2)$. We don't know the population mean $\\mu$ and population standard deviation $\\sigma$. When thinking about the following hypothesis(Step 1),\n<ul>\n    <li> Null hypothesis: $H_0 : \\mu = \\mu_0$\n    <li> Alternative hypothesis: $H_1 : \\mu < \\mu_0$ \n</ul>        \n\n<br><br> \nIn the next step, we define the level of significance $\\alpha$ (= 0.05 for example) (Step 2). \n<br><br>\nwe know that the following t-statistics follows a Student's t-distribution with $n-1$ degree of freedom (Step 4).<br><br> \n\\begin{equation}\nt = \\frac{\\bar{x}-\\mu_0}{\\frac{\\hat{\\sigma}}{\\sqrt{n}}}\n\\end{equation}\n<br>\nwhere $\\bar{x} = \\frac{1}{n} \\sum_{i=1}^{n}x_i$ is the sample mean(Step 3) and $\\hat{\\sigma}^2 = \\frac{1}{n-1} \\sum_{i=1}^{n}(x_i-\\bar{x})^2$ is the sample variance(Step 3).\n<br><br>\nP-value or probability value is, for a given statistical model, the probability that, when the null hypothesis is true, the statistical summary would be equal to, or more extreme than, the actual observed results. In this case, the p value is  $p = Pr(T > t)$.We use t-table to find the p-value of t-statitstics.If $p \\leq \\alpha$, we reject the null hypothesis. Ohteriwse, we passively accept the null hypothesis(Step 5).\n<br>\n<br>\nreference:\n<ul>\n    <li>https://en.wikipedia.org/wiki/T-statistic#targetText=In%20statistics%2C%20the%20t%2Dstatistic,testing%20via%20Student's%20t%2Dtest.\n<li>https://en.wikipedia.org/wiki/P-value\n</ul>    "
    },
    {
      "metadata": {
        "trusted": true
      },
      "cell_type": "code",
      "source": "# Suppose we have a sample from unknown distribution N(50, 10^2). \n# Can we state that the population mean is 68?\n# Null Hypothesis H_0: mu = 68, Altenative Hypothes H_1: mu < 68 (Step1)\n# Set the significance level alpha = 0.05 (Step2)\nscore = np.random.normal(50,10,100).round() # score is our normal sample. variables are (mean, std, and sample size)\n\nstats.ttest_1samp(score,popmean=68) # apply t-test (step 3,4,5)",
      "execution_count": 9,
      "outputs": [
        {
          "output_type": "execute_result",
          "execution_count": 9,
          "data": {
            "text/plain": "Ttest_1sampResult(statistic=-18.986359633320752, pvalue=9.040725011725997e-35)"
          },
          "metadata": {}
        }
      ]
    },
    {
      "metadata": {},
      "cell_type": "markdown",
      "source": "We found that pvalue is less than $\\alpha = 0.05$. We reject the null hypothesis (step5).<br> \nThis is an example of one-tailed test. In a two-tailed test ($H_1: \\mu \\neq 68$), when the level of significance is 0.05, each side has 0.025."
    },
    {
      "metadata": {
        "trusted": true
      },
      "cell_type": "code",
      "source": "# step 3 and step 4, not using a library\n# .var devides by n not by n-1. We have to divide the sqrt of it by n-1 to calculate the t-value\n(score.mean() - 68)/np.sqrt(score.var()/(len(score)-1))   ",
      "execution_count": 62,
      "outputs": [
        {
          "output_type": "execute_result",
          "execution_count": 62,
          "data": {
            "text/plain": "-14.684634034091598"
          },
          "metadata": {}
        }
      ]
    },
    {
      "metadata": {
        "trusted": true
      },
      "cell_type": "markdown",
      "source": "There are two types of error in a hypothesis test.\n<ol>\n    <li>Type 1 error: Rejecting the Null hypothesis when the Null hypothesis is True.\n    <li>Type 2 error: Accepting the Null hypothessi when the Null hypothesis is False.    \n</ol>    "
    },
    {
      "metadata": {
        "trusted": true
      },
      "cell_type": "markdown",
      "source": "<hr>"
    },
    {
      "metadata": {
        "trusted": true
      },
      "cell_type": "markdown",
      "source": "<div style=\"font-size:14pt\" font-weight=\"bold\">2.3 Standard error and confidence interval</div>\n<br>\nA confidence interval is an interval at which the population mean can be defined."
    },
    {
      "metadata": {
        "trusted": true
      },
      "cell_type": "code",
      "source": "# Suppose we have sample lengh data of 50 pomskys and want to determine the 95% confidence interval of the mean of population.\n# Code to generate synthetic data: pom_height = np.random.normal(14.5,1.5,50).\n# Suppose we don't know the population mean and varianve",
      "execution_count": 25,
      "outputs": []
    },
    {
      "metadata": {
        "trusted": true
      },
      "cell_type": "code",
      "source": "pom_height = np.array([13.78704687, 12.80437584, 12.61213547, 16.60561478, 16.04321627,\n       16.10802773, 17.03063469, 13.10050271, 14.25787495, 11.61665264,\n       14.10335509, 11.96093648, 14.57194738, 16.00151549, 16.48994858,\n       13.10516601, 12.82920909, 14.28485904, 15.14782206, 14.54971323,\n       15.38656485, 16.45455016, 14.72714213, 13.40554188, 12.19683747,\n       13.34414406, 13.89698177, 14.06191471, 14.14415435, 14.06620691,\n       14.0994669 , 17.6763056 , 12.29828235, 11.64966811, 15.26770362,\n       15.90137592, 10.71797262, 13.74040759, 14.41463527, 11.96465577,\n       15.07475022, 12.88626736, 10.79831496, 15.4743646 , 16.78947807,\n       14.59977992, 15.54180914, 15.79961476, 16.00997633, 13.11413979])",
      "execution_count": 3,
      "outputs": []
    },
    {
      "metadata": {
        "trusted": true
      },
      "cell_type": "code",
      "source": "# plotting the distribution\nplt.hist(pom_height, 30, density = True)",
      "execution_count": 4,
      "outputs": [
        {
          "output_type": "execute_result",
          "execution_count": 4,
          "data": {
            "text/plain": "(array([0.1724551 , 0.        , 0.        , 0.08622755, 0.08622755,\n        0.1724551 , 0.1724551 , 0.        , 0.1724551 , 0.1724551 ,\n        0.25868265, 0.1724551 , 0.        , 0.25868265, 0.43113775,\n        0.25868265, 0.25868265, 0.08622755, 0.08622755, 0.1724551 ,\n        0.25868265, 0.08622755, 0.3449102 , 0.08622755, 0.1724551 ,\n        0.08622755, 0.08622755, 0.08622755, 0.        , 0.08622755]),\n array([10.71797262, 10.94991705, 11.18186149, 11.41380592, 11.64575035,\n        11.87769478, 12.10963922, 12.34158365, 12.57352808, 12.80547251,\n        13.03741695, 13.26936138, 13.50130581, 13.73325024, 13.96519468,\n        14.19713911, 14.42908354, 14.66102798, 14.89297241, 15.12491684,\n        15.35686127, 15.58880571, 15.82075014, 16.05269457, 16.284639  ,\n        16.51658344, 16.74852787, 16.9804723 , 17.21241673, 17.44436117,\n        17.6763056 ]),\n <a list of 30 Patch objects>)"
          },
          "metadata": {}
        },
        {
          "output_type": "display_data",
          "data": {
            "image/png": "[encoded data removed]",
            "text/plain": "<Figure size 432x288 with 1 Axes>"
          },
          "metadata": {
            "needs_background": "light"
          }
        }
      ]
    },
    {
      "metadata": {
        "trusted": true
      },
      "cell_type": "code",
      "source": "# The mean of the distribution ( = Sample mean)\nprint(pom_height.mean(), \"inches\")",
      "execution_count": 6,
      "outputs": [
        {
          "output_type": "stream",
          "text": "14.2502712318 inches\n",
          "name": "stdout"
        }
      ]
    },
    {
      "metadata": {},
      "cell_type": "markdown",
      "source": "The standard error(SE) of the mean is the deviation of the sample mean from the population mean:\n<br><br>\n\\begin{equation}\n \\sigma_{\\bar{x}}  \\approx \\frac{s}{\\sqrt{n}}\n\\end{equation}\n<br>\nwhere\ns is the sample standard deviation (i.e., the sample-based estimate of the standard deviation of the population), and\nn is the size (number of observations) of the sample. This is an approximation because we don't know the population standard deviation."
    },
    {
      "metadata": {
        "trusted": true
      },
      "cell_type": "code",
      "source": "# calculate the standard erro using sem() function of the SciPy\nse = stats.sem(pom_height)\nse",
      "execution_count": 7,
      "outputs": [
        {
          "output_type": "execute_result",
          "execution_count": 7,
          "data": {
            "text/plain": "0.2375595117749731"
          },
          "metadata": {}
        }
      ]
    },
    {
      "metadata": {},
      "cell_type": "markdown",
      "source": "The standard error of the mean is 0.238 inches. <br>The upper limit and the lower limit of $(1-\\alpha)\\%$ (95% in this case) confidence interval can be determined by the following formula:\n<br><br>\n\\begin{equation}\n \\Big(  \\bar{x} - t_{\\alpha/2}\\sqrt{\\frac{s^2}{n}} \\:,\\:  \\bar{x} + t_{\\alpha/2}\\sqrt{\\frac{s^2}{n}}    \\Big)\n\\end{equation}\n<br>\n\\begin{equation}\n= \\Big(  \\bar{x} - t_{\\alpha/2}SE \\:,\\:  \\bar{x} + t_{\\alpha/2}SE    \\Big)\n\\end{equation}\n<br><br>\nAs the sample size increases, the standard error decreases, which means that the confidence interval becomes narrower. "
    },
    {
      "metadata": {
        "trusted": true
      },
      "cell_type": "code",
      "source": "alpha = 0.95\nloc = 0 # mean\nscale = 1 # std\na,b = norm.interval(alpha=alpha, loc=loc, scale=scale)\nprint(a,b)",
      "execution_count": 13,
      "outputs": [
        {
          "output_type": "stream",
          "text": "-1.959963984540054 1.959963984540054\n",
          "name": "stdout"
        }
      ]
    },
    {
      "metadata": {
        "trusted": true
      },
      "cell_type": "code",
      "source": "print(\"Lower interval: \", pom_height.mean() + (a)*se)\nprint(\"Upper interval: \", pom_height.mean() + (b)*se)",
      "execution_count": 11,
      "outputs": [
        {
          "output_type": "stream",
          "text": "Lower interval:  13.784663144536133\nUpper interval:  14.715879319063866\n",
          "name": "stdout"
        }
      ]
    },
    {
      "metadata": {},
      "cell_type": "markdown",
      "source": "We can conclude with 95% confidence that the population mean lies between 13.78 inches and 14.72 inches of height."
    },
    {
      "metadata": {},
      "cell_type": "markdown",
      "source": "<hr>"
    },
    {
      "metadata": {},
      "cell_type": "markdown",
      "source": "<div style=\"font-size:14pt\" font-weight=\"bold\">2.4 Correlation</div>\n<br>\nCorrelation defines the similarity between two random variables. The most commonly used correlation is the Pearson correlation and it is defined  by the following: \n\\begin{equation}\n\\rho_{XY} = Corr(X,Y) = \\frac{cov(X,Y)}{\\sigma_X \\sigma_Y} = \\frac{E [(X - \\mu_X)(Y - \\mu Y)]}{\\sigma_X \\sigma_Y}\n\\end{equation}"
    },
    {
      "metadata": {
        "trusted": true
      },
      "cell_type": "code",
      "source": "# Create a syhtetic sample\ncorrelation = 0.8 # Suppose we don't know the true correlation \ncorr_matrix = np.array([[1,correlation],[correlation,1]]) # Generate correlation matrix\nJND = np.matmul(np.linalg.cholesky(corr_matrix),norm.rvs(size = [2,40])) # Generate correlated Joint Normal Distribution\nplt.scatter(JND[0],JND[1])",
      "execution_count": 37,
      "outputs": [
        {
          "output_type": "execute_result",
          "execution_count": 37,
          "data": {
            "text/plain": "<matplotlib.collections.PathCollection at 0x7f00a9560748>"
          },
          "metadata": {}
        },
        {
          "output_type": "display_data",
          "data": {
            "image/png": "[encoded data removed]",
            "text/plain": "<Figure size 432x288 with 1 Axes>"
          },
          "metadata": {
            "needs_background": "light"
          }
        }
      ]
    },
    {
      "metadata": {
        "trusted": true
      },
      "cell_type": "code",
      "source": "# Calculate the Pearson correlation between the two sample\nstats.pearsonr(JND[0],JND[1])",
      "execution_count": 39,
      "outputs": [
        {
          "output_type": "execute_result",
          "execution_count": 39,
          "data": {
            "text/plain": "(0.7971137463047764, 7.52271625442287e-10)"
          },
          "metadata": {}
        }
      ]
    },
    {
      "metadata": {
        "trusted": true
      },
      "cell_type": "markdown",
      "source": "The first value of the output gives the correlation between the two random variables and the second value gives the p-value. The correlation tells us that the two random variables are highly correlated. It is significant (=not zero) by the p-value. "
    },
    {
      "metadata": {
        "trusted": true
      },
      "cell_type": "code",
      "source": "# Calculate the Spearman correlation between the two sample\nstats.spearmanr(JND[0],JND[1])",
      "execution_count": 40,
      "outputs": [
        {
          "output_type": "execute_result",
          "execution_count": 40,
          "data": {
            "text/plain": "SpearmanrResult(correlation=0.7729831144465292, pvalue=5.0637307367773385e-09)"
          },
          "metadata": {}
        }
      ]
    },
    {
      "metadata": {
        "trusted": true
      },
      "cell_type": "markdown",
      "source": "We add ouliers to the series:"
    },
    {
      "metadata": {
        "trusted": true
      },
      "cell_type": "code",
      "source": "JND_0 = list(JND[0])\nJND_1 = list(JND[1])\nJND_0.append(7)\nJND_1.append(1.5)\nJND_0.append(-2)\nJND_1.append(-7)",
      "execution_count": 56,
      "outputs": []
    },
    {
      "metadata": {
        "trusted": true
      },
      "cell_type": "code",
      "source": "plt.scatter(JND_0,JND_1)",
      "execution_count": 57,
      "outputs": [
        {
          "output_type": "execute_result",
          "execution_count": 57,
          "data": {
            "text/plain": "<matplotlib.collections.PathCollection at 0x7f00a951cc18>"
          },
          "metadata": {}
        },
        {
          "output_type": "display_data",
          "data": {
            "image/png": "[encoded data removed]",
            "text/plain": "<Figure size 432x288 with 1 Axes>"
          },
          "metadata": {
            "needs_background": "light"
          }
        }
      ]
    },
    {
      "metadata": {
        "trusted": true
      },
      "cell_type": "code",
      "source": "stats.pearsonr(JND_0,JND_1)",
      "execution_count": 58,
      "outputs": [
        {
          "output_type": "execute_result",
          "execution_count": 58,
          "data": {
            "text/plain": "(0.626213526345118, 9.176511201349028e-06)"
          },
          "metadata": {}
        }
      ]
    },
    {
      "metadata": {
        "trusted": true
      },
      "cell_type": "code",
      "source": "stats.spearmanr(JND_0,JND_1)",
      "execution_count": 59,
      "outputs": [
        {
          "output_type": "execute_result",
          "execution_count": 59,
          "data": {
            "text/plain": "SpearmanrResult(correlation=0.8009885746697998, pvalue=1.8912289186324278e-10)"
          },
          "metadata": {}
        }
      ]
    },
    {
      "metadata": {
        "trusted": true
      },
      "cell_type": "markdown",
      "source": "We can clearly see that the Pearson correlation has been strongly affected by the outliers. It changes to 0.626 from 0.797.<br> The Spearman correlation did not get affected much. It is based on the order rather than the actual value. "
    },
    {
      "metadata": {},
      "cell_type": "markdown",
      "source": "<hr>"
    },
    {
      "metadata": {},
      "cell_type": "markdown",
      "source": "<div style=\"font-size:14pt\" font-weight=\"bold\">2.5 The F distribution</div>\n<br>\nthe F-distribution, also known as Snedecor's F distribution is a continuous probability distribution that is often used in the analysis of variance (ANOVA). A random variable form F distribution can be written as follows:\n\n\\begin{equation}\n X= \\frac{s_1^2 /\\sigma_1^2}{s_2^2 / \\sigma_2^2}\n\\end{equation}\n<br>\nwhere $s_1^2$ and $s_2^2$ are the sums of squares $S_1^2$ and $S_2^2$ from two normal processes with variances $\\sigma_1^2$ and $\\sigma_2^2$ divided by the corresponding number of $\\chi^2$ degrees of freedom, d1 and d2 respectively.\n<br>\nreference: https://en.wikipedia.org/wiki/F-distribution"
    },
    {
      "metadata": {
        "trusted": true
      },
      "cell_type": "code",
      "source": "# generate x values\nx = np.linspace(0,5,100)\n\n# Create f distibution object with digree of freedom = 2,3,7\ndf_f2 = stats.f(2,2)\ndf_f3 = stats.f(3,3)\ndf_f7= stats.f(7,7)\n\n# Draw the pdf of pdf of f-distribuion \nplt.plot(x, df_f2.pdf(x), label = \"f-distribution, df = 2\")\nplt.plot(x, df_f3.pdf(x), label = \"f-distribution, df = 3\")\nplt.plot(x, df_f7.pdf(x), label = \"f-distribution, df = 7\")\nplt.legend(loc='best', frameon=False)",
      "execution_count": 115,
      "outputs": [
        {
          "output_type": "execute_result",
          "execution_count": 115,
          "data": {
            "text/plain": "<matplotlib.legend.Legend at 0x7f00a78f8358>"
          },
          "metadata": {}
        },
        {
          "output_type": "display_data",
          "data": {
            "image/png": "[encoded data removed]",
            "text/plain": "<Figure size 432x288 with 1 Axes>"
          },
          "metadata": {
            "needs_background": "light"
          }
        }
      ]
    },
    {
      "metadata": {},
      "cell_type": "markdown",
      "source": "<hr>"
    },
    {
      "metadata": {},
      "cell_type": "markdown",
      "source": "<div style=\"font-size:14pt\" font-weight=\"bold\">2.6 The chi-squared distribution</div>\n<br>\nIf $X_1, X_2, \\cdot\\cdot\\cdot,X_m $ are independent and identically distributed(i.i.d.) and normallly distributed, Y in the following formula has $\\chi^2$ distribution.\n<br>\n\n\\begin{equation}\n Y = \\sum_{i=1}^n X_i^2 \\: \\sim \\chi_n^2\n\\end{equation}\n\nwhere n is the defree of freedom.\n\n<br>\nA chi-squared test, also written as $\\chi^2$ test, is an statistical hypothesis test where the sampling distribution of the test statistic is a chi-squared distribution when the null hypothesis is true.\n\n<br> \n<hr>\n<div style=\"font-size:14pt\" font-weight=\"bold\">2.6.2 The chi-squared goodness of fit test</div>\n<br>\nThe chi-squared test is used to determine whether there is a significant difference between the expected frequencies and the observed frequencies. We test the following:\n\n\\begin{equation}\n Y = \\sum_{i=1}^n \\frac{(O_i - E_i)^2}{E_i} \\: \\sim \\chi_{n-1}^2\n\\end{equation}\n\nwhere $E_i$ is the expected outcome and $O_i$ is an observed sample outcome.<br>\nSuppose we roll a a fair dice 360 times and observed the folowing distribution:\n\n<style type=\"text/css\">\n.tg  {border-collapse:collapse;border-spacing:0;}\n.tg td{font-family:Arial, sans-serif;font-size:14px;padding:10px 5px;border-style:solid;border-width:1px;overflow:hidden;word-break:normal;border-color:black;}\n.tg th{font-family:Arial, sans-serif;font-size:14px;font-weight:normal;padding:10px 5px;border-style:solid;border-width:1px;overflow:hidden;word-break:normal;border-color:black;}\n.tg .tg-0pky{border-color:inherit;text-align:left;vertical-align:top}\n</style>\n\n<table class=\"tg\">\n  <tr>\n    <th class=\"tg-0pky\">Outcome</th>\n    <th class=\"tg-0pky\">Expected distributon</th>\n    <th class=\"tg-0pky\">Sample distributon</th>\n  </tr>\n  <tr>\n    <td class=\"tg-0pky\">1</td>\n    <td class=\"tg-0pky\">60</td>\n    <td class=\"tg-0pky\">56</td>  \n  </tr>\n  <tr>\n    <td class=\"tg-0pky\">2</td>\n    <td class=\"tg-0pky\">60</td>\n    <td class=\"tg-0pky\">64</td>\n  </tr>\n  <tr>\n    <td class=\"tg-0pky\">3</td>\n    <td class=\"tg-0pky\">60</td>\n    <td class=\"tg-0pky\">58</td>\n  </tr>\n  <tr>\n    <td class=\"tg-0pky\">4</td>\n    <td class=\"tg-0pky\">60</td>  \n    <td class=\"tg-0pky\">57</td>\n  </tr>\n  <tr>\n    <td class=\"tg-0pky\">5</td>\n    <td class=\"tg-0pky\">60</td>  \n    <td class=\"tg-0pky\">62</td>\n  </tr>\n  <tr>\n    <td class=\"tg-0pky\">6</td>\n    <td class=\"tg-0pky\">60</td>\n    <td class=\"tg-0pky\">63</td>  \n  </tr>\n</table>\n<br>\n\nNull Hypothesis $H_0: p_1 =  \\cdot \\cdot \\cdot = p_6 = \\frac{1}{6}$<br> \nAlternative Hypothesis $H_1: $ At least one of them is not $\\frac{1}{6}$<br> \nSignificance level $\\alpha = 0.05$\n\n<br>\n\nreference: https://en.wikipedia.org/wiki/Chi-squared_test \n"
    },
    {
      "metadata": {
        "trusted": true
      },
      "cell_type": "code",
      "source": "observed_dist = np.array([56,64,58,57,62,63])\nexpected_dist = np.ones(6)*60\nprint(\"Sample: \", observed_dist)\nprint(\"Expected: \", expected_dist)",
      "execution_count": 5,
      "outputs": [
        {
          "output_type": "stream",
          "text": "Sample:  [56 64 58 57 62 63]\nExpected:  [60. 60. 60. 60. 60. 60.]\n",
          "name": "stdout"
        }
      ]
    },
    {
      "metadata": {
        "trusted": true
      },
      "cell_type": "code",
      "source": "stats.chisquare(observed_dist, expected_dist)",
      "execution_count": 6,
      "outputs": [
        {
          "output_type": "execute_result",
          "execution_count": 6,
          "data": {
            "text/plain": "Power_divergenceResult(statistic=0.9666666666666667, pvalue=0.9652092806421372)"
          },
          "metadata": {}
        }
      ]
    },
    {
      "metadata": {},
      "cell_type": "markdown",
      "source": "The first value is the chi-square value and the second value is the p-value, which is greater than 0.05.<br> We can passively accept the null hypothesis and conclude the sample distribution is similar to the expected ditribution. "
    },
    {
      "metadata": {
        "trusted": true
      },
      "cell_type": "code",
      "source": "ch2=np.array([(x-y)**2/y for x, y in zip(observed_dist,expected_dist)])\n1-stats.chi2.cdf(ch2.sum(),5) ",
      "execution_count": 9,
      "outputs": [
        {
          "output_type": "execute_result",
          "execution_count": 9,
          "data": {
            "text/plain": "0.9448773650021219"
          },
          "metadata": {}
        }
      ]
    },
    {
      "metadata": {
        "trusted": true
      },
      "cell_type": "markdown",
      "source": "<div style=\"font-size:14pt\" font-weight=\"bold\">2.6.3 The chi-squared test of independence</div>\n<br>\nThe chi-square test of independence is a test to determine whether two categorical variables are independent.<br>\nSuppose we have the following blood type data by gender. We want to know whether the two categorical variables are independent or not.<br>\n\n</style>\n\n<table class=\"tg\">\n  <tr>\n    <th class=\"tg-0pky\">Gender/Blood Type</th>\n    <th class=\"tg-0pky\">A</th>\n    <th class=\"tg-0pky\">O</th>\n    <th class=\"tg-0pky\">B</th>\n    <th class=\"tg-0pky\">AB</th>\n    <th class=\"tg-0pky\">total</th>  \n  </tr>\n  <tr>\n    <th class=\"tg-0pky\">Male: </th>\n    <th class=\"tg-0pky\">56</th>\n    <th class=\"tg-0pky\">20</th>\n    <th class=\"tg-0pky\">16</th>\n    <th class=\"tg-0pky\">8</th>\n    <th class=\"tg-0pky\">100</th>  \n  </tr>\n  <tr>\n    <th class=\"tg-0pky\">Female: </th>\n    <th class=\"tg-0pky\">45</th>\n    <th class=\"tg-0pky\">28</th>\n    <th class=\"tg-0pky\">22</th>\n    <th class=\"tg-0pky\">5</th>\n    <th class=\"tg-0pky\">100</th>  \n  </tr>\n</table>\n<br>\n\nNull Hypothesis $H_0: $ Gender and blood type are independent<br> \nAlternative Hypothesis $H_1: $ Gender and blood type are not independent<br> \nSignificance level $\\alpha = 0.05$\n\n<br>\n"
    },
    {
      "metadata": {
        "trusted": true
      },
      "cell_type": "code",
      "source": "bt_data = [[56,20,16,8],[45,28,22,5]]\nbt_data",
      "execution_count": 2,
      "outputs": [
        {
          "output_type": "execute_result",
          "execution_count": 2,
          "data": {
            "text/plain": "[[56, 20, 16, 8], [45, 28, 22, 5]]"
          },
          "metadata": {}
        }
      ]
    },
    {
      "metadata": {
        "trusted": true
      },
      "cell_type": "code",
      "source": "# if the Chi^2 statistics is greater than this value, the null hypothesis is rejected\nstats.distributions.chi2.ppf(0.95,3)  # alpha = 0.05, df = 3",
      "execution_count": 6,
      "outputs": [
        {
          "output_type": "execute_result",
          "execution_count": 6,
          "data": {
            "text/plain": "7.814727903251179"
          },
          "metadata": {}
        }
      ]
    },
    {
      "metadata": {
        "trusted": true
      },
      "cell_type": "code",
      "source": "stats.chi2_contingency(bt_data) ",
      "execution_count": 3,
      "outputs": [
        {
          "output_type": "execute_result",
          "execution_count": 3,
          "data": {
            "text/plain": "(4.171029248673856, 0.24357845967499242, 3, array([[50.5, 24. , 19. ,  6.5],\n        [50.5, 24. , 19. ,  6.5]]))"
          },
          "metadata": {}
        }
      ]
    },
    {
      "metadata": {},
      "cell_type": "markdown",
      "source": "The $\\chi^2$ statistics(4.171) is less than the 95% $\\chi^2$ value(7.815), which means we cannot reject the null hypothesis."
    },
    {
      "metadata": {
        "trusted": true
      },
      "cell_type": "code",
      "source": "1.0 - stats.distributions.chi2.cdf(4.171,3)",
      "execution_count": 5,
      "outputs": [
        {
          "output_type": "execute_result",
          "execution_count": 5,
          "data": {
            "text/plain": "0.24358142050030052"
          },
          "metadata": {}
        }
      ]
    },
    {
      "metadata": {},
      "cell_type": "markdown",
      "source": "The first value is the chi-square value and the second value is the p-value.\n<br>The p-value is greater than $\\alpha = 0.05$,  which means that we cannot reject the null hypothesis. The blood type and gender are independent."
    },
    {
      "metadata": {},
      "cell_type": "markdown",
      "source": "<hr>"
    },
    {
      "metadata": {},
      "cell_type": "markdown",
      "source": "<div style=\"font-size:14pt\" font-weight=\"bold\">2.7 Analysis of Variance(ANOVA)</div>\n<br>\nAnalysis of Variance (ANOVA) is testing the differences between means of three or more series fo data. It compares the means between groups and determines whether any of these means are significantly different from each other:\n<br><br>\nNull Hypothesis $H_0: \\mu_1 = \\mu_2 = \\cdot \\cdot \\cdot \\mu_n$<br>\nAlternative Hypothesis $H_1: $ At least one of them has a different mean from others.<br>\n\nWe compare the variance inside the group with the mean variance between the different groups. This statistics is called F-statistics. It has a F-distribution."
    },
    {
      "metadata": {
        "trusted": true
      },
      "cell_type": "markdown",
      "source": "Suppose we have test scores from three different schools and want to see if their scores are significantly different from the others."
    },
    {
      "metadata": {
        "trusted": true
      },
      "cell_type": "code",
      "source": "# Generate synthetic test scores with differen means\nschool_a = np.random.normal(65,5,size=90)\nschool_b = np.random.normal(70,10,size=60)\nschool_c = np.random.normal(80,15,size=80)",
      "execution_count": 22,
      "outputs": []
    },
    {
      "metadata": {
        "trusted": true
      },
      "cell_type": "code",
      "source": "bins = np.arange(10,120,5)\nplt.hist(school_a, bins=bins, alpha=0.3)\nplt.hist(school_b, bins=bins, alpha=0.3)\nplt.hist(school_c, bins=bins, alpha=0.3)\nresult = stats.f_oneway(school_a,school_b,school_c)\nprint(result)\nplt.show()",
      "execution_count": 23,
      "outputs": [
        {
          "output_type": "stream",
          "text": "F_onewayResult(statistic=54.993836956037654, pvalue=3.3476804158880856e-20)\n",
          "name": "stdout"
        },
        {
          "output_type": "display_data",
          "data": {
            "image/png": "[encoded data removed]",
            "text/plain": "<Figure size 432x288 with 1 Axes>"
          },
          "metadata": {
            "needs_background": "light"
          }
        }
      ]
    },
    {
      "metadata": {},
      "cell_type": "markdown",
      "source": "The p-value is less than 0.05, which means we can reject the null hypothesis and there is a difference between the groups."
    },
    {
      "metadata": {},
      "cell_type": "markdown",
      "source": "<hr>"
    },
    {
      "metadata": {
        "trusted": true
      },
      "cell_type": "code",
      "source": "# Generate synthetic test scores with the same mean\nschool_a = np.random.normal(70,5,size=90)\nschool_b = np.random.normal(70,10,size=60)\nschool_c = np.random.normal(70,15,size=80)",
      "execution_count": 24,
      "outputs": []
    },
    {
      "metadata": {
        "trusted": true
      },
      "cell_type": "code",
      "source": "bins = np.arange(10,120,5)\nplt.hist(school_a, bins=bins, alpha=0.3)\nplt.hist(school_b, bins=bins, alpha=0.3)\nplt.hist(school_c, bins=bins, alpha=0.3)\nresult = stats.f_oneway(school_a,school_b,school_c)\nprint(result)\nplt.show()",
      "execution_count": 25,
      "outputs": [
        {
          "output_type": "stream",
          "text": "F_onewayResult(statistic=1.7103663587929039, pvalue=0.18312114316675027)\n",
          "name": "stdout"
        },
        {
          "output_type": "display_data",
          "data": {
            "image/png": "[encoded data removed]",
            "text/plain": "<Figure size 432x288 with 1 Axes>"
          },
          "metadata": {
            "needs_background": "light"
          }
        }
      ]
    },
    {
      "metadata": {},
      "cell_type": "markdown",
      "source": "The p-value is greater than 0.05, which means we can not reject the null hypothesis and the groups has the same mean."
    },
    {
      "metadata": {},
      "cell_type": "markdown",
      "source": "<hr>"
    }
  ],
  "metadata": {
    "kernelspec": {
      "name": "python36",
      "display_name": "Python 3.6",
      "language": "python"
    },
    "language_info": {
      "mimetype": "text/x-python",
      "nbconvert_exporter": "python",
      "name": "python",
      "pygments_lexer": "ipython3",
      "version": "3.6.6",
      "file_extension": ".py",
      "codemirror_mode": {
        "version": 3,
        "name": "ipython"
      }
    }
  },
  "nbformat": 4,
  "nbformat_minor": 2
}